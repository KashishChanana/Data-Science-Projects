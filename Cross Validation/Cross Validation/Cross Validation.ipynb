{
 "cells": [
  {
   "cell_type": "code",
   "execution_count": 14,
   "metadata": {},
   "outputs": [],
   "source": [
    "import pandas as pd\n",
    "import numpy as np"
   ]
  },
  {
   "cell_type": "code",
   "execution_count": 15,
   "metadata": {},
   "outputs": [],
   "source": [
    "data= pd.read_csv('AdultIncome.csv')\n",
    "data_prep= pd.get_dummies(data, drop_first= True)"
   ]
  },
  {
   "cell_type": "code",
   "execution_count": 16,
   "metadata": {},
   "outputs": [],
   "source": [
    "X= data_prep.iloc[:, :-1]\n",
    "Y= data_prep.iloc[:, -1]"
   ]
  },
  {
   "cell_type": "code",
   "execution_count": 17,
   "metadata": {},
   "outputs": [],
   "source": [
    "from sklearn.tree import DecisionTreeClassifier\n",
    "dtc= DecisionTreeClassifier(random_state=1234)\n",
    "\n",
    "from sklearn.ensemble import RandomForestClassifier\n",
    "rfc= RandomForestClassifier(random_state=1234)\n",
    "\n",
    "from sklearn.svm import SVC\n",
    "svc= SVC(kernel= 'rbf', gamma=0.5)"
   ]
  },
  {
   "cell_type": "code",
   "execution_count": 20,
   "metadata": {},
   "outputs": [],
   "source": [
    "from sklearn.model_selection import cross_validate"
   ]
  },
  {
   "cell_type": "code",
   "execution_count": 21,
   "metadata": {},
   "outputs": [],
   "source": [
    "cv_result_dtc= cross_validate(dtc, X, Y, cv=10, return_train_score= True)\n",
    "cv_result_rfc= cross_validate(rfc, X, Y, cv=10, return_train_score= True)\n",
    "cv_result_svc= cross_validate(svc, X, Y, cv=10, return_train_score= True)"
   ]
  },
  {
   "cell_type": "code",
   "execution_count": 22,
   "metadata": {},
   "outputs": [],
   "source": [
    "dtc_test_avg=np.average(cv_result_dtc['test_score'])\n",
    "rfc_test_avg=np.average(cv_result_rfc['test_score'])\n",
    "svc_test_avg=np.average(cv_result_svc['test_score'])\n",
    "\n",
    "dtc_train_avg=np.average(cv_result_dtc['train_score'])\n",
    "rfc_train_avg=np.average(cv_result_rfc['train_score'])\n",
    "svc_train_avg=np.average(cv_result_svc['train_score'])"
   ]
  },
  {
   "cell_type": "code",
   "execution_count": 26,
   "metadata": {},
   "outputs": [
    {
     "name": "stdout",
     "output_type": "stream",
     "text": [
      "Test:\n",
      "DTC: 0.7811\n",
      "RFC: 0.7972\n",
      "SVC: 0.8036\n"
     ]
    }
   ],
   "source": [
    "print(\"Test:\")\n",
    "print(\"DTC: \"+str(round(dtc_test_avg, 4)))\n",
    "print(\"RFC: \"+str(round(rfc_test_avg, 4)))\n",
    "print(\"SVC: \"+str(round(svc_test_avg, 4)))"
   ]
  },
  {
   "cell_type": "code",
   "execution_count": 27,
   "metadata": {},
   "outputs": [
    {
     "name": "stdout",
     "output_type": "stream",
     "text": [
      "Train:\n",
      "DTC: 0.9044\n",
      "RFC: 0.9043\n",
      "SVC: 0.8745\n"
     ]
    }
   ],
   "source": [
    "print(\"Train:\")\n",
    "print(\"DTC: \"+str(round(dtc_train_avg, 4)))\n",
    "print(\"RFC: \"+str(round(rfc_train_avg, 4)))\n",
    "print(\"SVC: \"+str(round(svc_train_avg, 4)))"
   ]
  },
  {
   "cell_type": "code",
   "execution_count": null,
   "metadata": {},
   "outputs": [],
   "source": []
  }
 ],
 "metadata": {
  "kernelspec": {
   "display_name": "Python 3",
   "language": "python",
   "name": "python3"
  },
  "language_info": {
   "codemirror_mode": {
    "name": "ipython",
    "version": 3
   },
   "file_extension": ".py",
   "mimetype": "text/x-python",
   "name": "python",
   "nbconvert_exporter": "python",
   "pygments_lexer": "ipython3",
   "version": "3.8.3"
  }
 },
 "nbformat": 4,
 "nbformat_minor": 4
}
