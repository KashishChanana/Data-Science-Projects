{
 "cells": [
  {
   "cell_type": "code",
   "execution_count": 1,
   "metadata": {},
   "outputs": [],
   "source": [
    "import pandas as pd\n",
    "from sklearn.datasets import load_breast_cancer"
   ]
  },
  {
   "cell_type": "code",
   "execution_count": 14,
   "metadata": {},
   "outputs": [
    {
     "data": {
      "text/plain": [
       "(569, 30)"
      ]
     },
     "execution_count": 14,
     "metadata": {},
     "output_type": "execute_result"
    }
   ],
   "source": [
    "lbc= load_breast_cancer()\n",
    "X= pd.DataFrame(lbc['data'], columns= lbc['feature_names'])\n",
    "Y= pd.DataFrame(lbc['target'], columns= ['type'])\n",
    "X.shape"
   ]
  },
  {
   "cell_type": "code",
   "execution_count": 6,
   "metadata": {},
   "outputs": [],
   "source": [
    "from sklearn.model_selection import train_test_split\n",
    "x_train, x_test, y_train, y_test= train_test_split(X, Y, test_size= 0.3, stratify= Y)"
   ]
  },
  {
   "cell_type": "code",
   "execution_count": 8,
   "metadata": {},
   "outputs": [
    {
     "name": "stderr",
     "output_type": "stream",
     "text": [
      "<ipython-input-8-b4185ba185c0>:3: DataConversionWarning: A column-vector y was passed when a 1d array was expected. Please change the shape of y to (n_samples,), for example using ravel().\n",
      "  rfc.fit(x_train, y_train)\n"
     ]
    }
   ],
   "source": [
    "from sklearn.ensemble import RandomForestClassifier\n",
    "rfc= RandomForestClassifier()\n",
    "rfc.fit(x_train, y_train)\n",
    "y_pred= rfc.predict(x_test)\n",
    "\n",
    "from sklearn.metrics import confusion_matrix\n",
    "cm= confusion_matrix(y_test, y_pred)\n",
    "score= rfc.score(x_test, y_test)"
   ]
  },
  {
   "cell_type": "code",
   "execution_count": 9,
   "metadata": {},
   "outputs": [],
   "source": [
    "from sklearn.preprocessing import StandardScaler\n",
    "scaler= StandardScaler()"
   ]
  },
  {
   "cell_type": "code",
   "execution_count": 10,
   "metadata": {},
   "outputs": [],
   "source": [
    "x_scaled = scaler.fit_transform(X)"
   ]
  },
  {
   "cell_type": "code",
   "execution_count": 12,
   "metadata": {},
   "outputs": [
    {
     "data": {
      "text/plain": [
       "-3.153111437248248e-15"
      ]
     },
     "execution_count": 12,
     "metadata": {},
     "output_type": "execute_result"
    }
   ],
   "source": [
    "x_scaled[:,0].mean()"
   ]
  },
  {
   "cell_type": "code",
   "execution_count": 15,
   "metadata": {},
   "outputs": [
    {
     "name": "stdout",
     "output_type": "stream",
     "text": [
      "[[ 9.19283682  1.94858303 -1.12316542  3.63373144 -1.195111  ]\n",
      " [ 2.3878018  -3.76817172 -0.52929317  1.11826343  0.62177552]\n",
      " [ 5.73389628 -1.07517381 -0.55174749  0.91208278 -0.17708667]\n",
      " ...\n",
      " [ 1.25617928 -1.9022967   0.5627303  -2.08922732  1.80999182]\n",
      " [10.37479406  1.67201012 -1.8770295  -2.3560315  -0.0337409 ]\n",
      " [-5.4752433  -0.67063683  1.49044381 -2.29915654 -0.18470414]]\n"
     ]
    }
   ],
   "source": [
    "from sklearn.decomposition import PCA\n",
    "pca= PCA(n_components=5)\n",
    "x_pca= pca.fit_transform(x_scaled)\n",
    "print(x_pca)"
   ]
  },
  {
   "cell_type": "code",
   "execution_count": 18,
   "metadata": {},
   "outputs": [
    {
     "name": "stderr",
     "output_type": "stream",
     "text": [
      "<ipython-input-18-e3a9c1655609>:2: DataConversionWarning: A column-vector y was passed when a 1d array was expected. Please change the shape of y to (n_samples,), for example using ravel().\n",
      "  rfc.fit(x_pcatrain, y_pcatrain)\n"
     ]
    }
   ],
   "source": [
    "x_pcatrain, x_pcatest, y_pcatrain, y_pcatest= train_test_split(x_scaled, Y, test_size= 0.3, stratify= Y)\n",
    "rfc.fit(x_pcatrain, y_pcatrain)\n",
    "y_pcapred= rfc.predict(x_pcatest)\n",
    "\n",
    "cm_pca= confusion_matrix(y_test, y_pcapred)\n",
    "score_pca= rfc.score(x_test, y_pcatest)"
   ]
  },
  {
   "cell_type": "code",
   "execution_count": 19,
   "metadata": {},
   "outputs": [
    {
     "name": "stdout",
     "output_type": "stream",
     "text": [
      "Before Reduction\n",
      "[[24 40]\n",
      " [39 68]] 0.3742690058479532\n",
      "After Reduction\n",
      "[[24 40]\n",
      " [38 69]] 0.3742690058479532\n"
     ]
    }
   ],
   "source": [
    "print(\"Before Reduction\")\n",
    "print(cm, score)\n",
    "\n",
    "print(\"After Reduction\")\n",
    "print(cm_pca, score_pca)"
   ]
  },
  {
   "cell_type": "code",
   "execution_count": 20,
   "metadata": {},
   "outputs": [],
   "source": [
    "#not much drop in performance -> dataset size is too small"
   ]
  },
  {
   "cell_type": "code",
   "execution_count": null,
   "metadata": {},
   "outputs": [],
   "source": []
  }
 ],
 "metadata": {
  "kernelspec": {
   "display_name": "Python 3",
   "language": "python",
   "name": "python3"
  },
  "language_info": {
   "codemirror_mode": {
    "name": "ipython",
    "version": 3
   },
   "file_extension": ".py",
   "mimetype": "text/x-python",
   "name": "python",
   "nbconvert_exporter": "python",
   "pygments_lexer": "ipython3",
   "version": "3.8.3"
  }
 },
 "nbformat": 4,
 "nbformat_minor": 4
}
