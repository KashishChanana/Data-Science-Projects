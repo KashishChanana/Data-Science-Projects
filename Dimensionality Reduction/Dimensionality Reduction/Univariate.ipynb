{
 "cells": [
  {
   "cell_type": "code",
   "execution_count": 1,
   "metadata": {},
   "outputs": [],
   "source": [
    "import pandas as pd"
   ]
  },
  {
   "cell_type": "code",
   "execution_count": 2,
   "metadata": {},
   "outputs": [],
   "source": [
    "data= pd.read_csv(\"StudentsFS.csv\")"
   ]
  },
  {
   "cell_type": "code",
   "execution_count": 3,
   "metadata": {},
   "outputs": [],
   "source": [
    "X= data.iloc[:, :-1]\n",
    "Y= data.iloc[:, -1]"
   ]
  },
  {
   "cell_type": "code",
   "execution_count": 4,
   "metadata": {},
   "outputs": [],
   "source": [
    "from sklearn.linear_model import LinearRegression\n",
    "lr= LinearRegression()"
   ]
  },
  {
   "cell_type": "code",
   "execution_count": 5,
   "metadata": {},
   "outputs": [
    {
     "name": "stdout",
     "output_type": "stream",
     "text": [
      "6.982206715357434\n"
     ]
    }
   ],
   "source": [
    "\n",
    "\n",
    "lr.fit(x_train, y_train)\n",
    "y_pred= lr.predict(x_test)\n",
    "\n",
    "from sklearn.metrics import mean_squared_error\n",
    "import math\n",
    "error= math.sqrt(mean_squared_error(y_test, y_pred))\n",
    "print(error)"
   ]
  },
  {
   "cell_type": "markdown",
   "metadata": {},
   "source": [
    "F_REGRESSION"
   ]
  },
  {
   "cell_type": "code",
   "execution_count": 7,
   "metadata": {},
   "outputs": [],
   "source": [
    "from sklearn.feature_selection import f_regression as fr\n",
    "result= fr(X,Y)"
   ]
  },
  {
   "cell_type": "code",
   "execution_count": 8,
   "metadata": {},
   "outputs": [],
   "source": [
    "f_score= result[0]\n",
    "p_value= result[1]"
   ]
  },
  {
   "cell_type": "code",
   "execution_count": 12,
   "metadata": {},
   "outputs": [
    {
     "name": "stdout",
     "output_type": "stream",
     "text": [
      "Hours          141.91 0.000000\n",
      "sHours           4.57 0.041403\n",
      "hoursplayed      0.00 0.969907\n",
      "income           0.16 0.692200\n",
      "distance         0.00 0.955528\n",
      "calories         0.40 0.530086\n"
     ]
    }
   ],
   "source": [
    "columns = list(X.columns)\n",
    "\n",
    "\n",
    "for i in range(0, len(columns)):\n",
    "    f1= \"%4.2f\" % f_score[i]\n",
    "    p1= \"%2.6f\" % p_value[i]\n",
    "    print(columns[i].ljust(12), f1.rjust(8), p1.rjust(8))\n",
    "    "
   ]
  },
  {
   "cell_type": "code",
   "execution_count": 13,
   "metadata": {},
   "outputs": [],
   "source": [
    "data= data.drop ([\"hoursplayed\", \"income\", \"distance\", \"calories\"], axis=1)  ## remove those features with p_values< alpha, considering alpha as 0.05 here"
   ]
  },
  {
   "cell_type": "code",
   "execution_count": 14,
   "metadata": {},
   "outputs": [],
   "source": [
    "X_fs= data.iloc[:, :-1]\n",
    "Y_fs= data.iloc[:, -1]"
   ]
  },
  {
   "cell_type": "code",
   "execution_count": 15,
   "metadata": {},
   "outputs": [
    {
     "name": "stdout",
     "output_type": "stream",
     "text": [
      "5.09721728108113\n"
     ]
    }
   ],
   "source": [
    "x_train, x_test, y_train, y_test= train_test_split(X_fs, Y_fs, test_size= 0.4, random_state=1234)\n",
    "\n",
    "lr.fit(x_train, y_train)\n",
    "y_pred_fs= lr.predict(x_test)\n",
    "\n",
    "error= math.sqrt(mean_squared_error(y_test, y_pred_fs))\n",
    "print(error)"
   ]
  },
  {
   "cell_type": "markdown",
   "metadata": {},
   "source": [
    "SELECTKBEST"
   ]
  },
  {
   "cell_type": "code",
   "execution_count": 16,
   "metadata": {},
   "outputs": [],
   "source": [
    "from sklearn.feature_selection import SelectKBest, SelectPercentile, GenericUnivariateSelect, f_regression"
   ]
  },
  {
   "cell_type": "code",
   "execution_count": 17,
   "metadata": {},
   "outputs": [],
   "source": [
    "selectorK= SelectKBest(score_func= f_regression, k=3)\n",
    "X_k= selectorK.fit_transform(X, Y)"
   ]
  },
  {
   "cell_type": "code",
   "execution_count": 20,
   "metadata": {},
   "outputs": [
    {
     "name": "stdout",
     "output_type": "stream",
     "text": [
      "[[   0    6 2491]\n",
      " [   1    7 2303]\n",
      " [   1    6 2475]\n",
      " [   1    8 2282]\n",
      " [   1    8 2359]\n",
      " [   2    8 2354]\n",
      " [   2    6 2943]\n",
      " [   3    6 2119]\n",
      " [   3    7 2511]\n",
      " [   3    7 2666]\n",
      " [   3    8 2934]\n",
      " [   4    8 2838]\n",
      " [   4    7 2102]\n",
      " [   4    7 2560]\n",
      " [   5    8 2068]\n",
      " [   5    6 2541]\n",
      " [   6    6 2690]\n",
      " [   6    7 2956]\n",
      " [   7    8 2239]\n",
      " [   7    8 2703]\n",
      " [   7    6 2603]\n",
      " [   7    6 2031]\n",
      " [   8    7 2885]\n",
      " [   8    8 2153]\n",
      " [   9    8 2384]\n",
      " [   9    5 2882]\n",
      " [   9    8 2271]\n",
      " [  10    8 2264]\n",
      " [  10    8 2522]\n",
      " [  11    7 2279]]\n"
     ]
    }
   ],
   "source": [
    "print(X_k)"
   ]
  },
  {
   "cell_type": "code",
   "execution_count": 24,
   "metadata": {},
   "outputs": [],
   "source": [
    "f_scores_new= selectorK.scores_\n",
    "p_values_new= selectorK.pvalues_"
   ]
  },
  {
   "cell_type": "code",
   "execution_count": 25,
   "metadata": {},
   "outputs": [
    {
     "name": "stdout",
     "output_type": "stream",
     "text": [
      "Hours          141.91 0.000000\n",
      "sHours           4.57 0.041403\n",
      "hoursplayed      0.00 0.969907\n",
      "income           0.16 0.692200\n",
      "distance         0.00 0.955528\n",
      "calories         0.40 0.530086\n"
     ]
    }
   ],
   "source": [
    "for i in range(0, len(columns)):\n",
    "    f1= \"%4.2f\" % f_scores_new[i]\n",
    "    p1= \"%2.6f\" % p_values_new[i]\n",
    "    print(columns[i].ljust(12), f1.rjust(8), p1.rjust(8))"
   ]
  },
  {
   "cell_type": "code",
   "execution_count": 28,
   "metadata": {},
   "outputs": [],
   "source": [
    "cols= selectorK.get_support(indices=True)\n",
    "selected_cols= X.columns[cols].tolist()"
   ]
  },
  {
   "cell_type": "code",
   "execution_count": 29,
   "metadata": {},
   "outputs": [
    {
     "name": "stdout",
     "output_type": "stream",
     "text": [
      "['Hours', 'sHours', 'calories']\n"
     ]
    }
   ],
   "source": [
    "print(selected_cols)"
   ]
  },
  {
   "cell_type": "markdown",
   "metadata": {},
   "source": [
    "SELECTPERCENTILE"
   ]
  },
  {
   "cell_type": "code",
   "execution_count": 31,
   "metadata": {},
   "outputs": [
    {
     "name": "stdout",
     "output_type": "stream",
     "text": [
      "['Hours', 'sHours', 'calories']\n"
     ]
    }
   ],
   "source": [
    "selectorP= SelectPercentile(score_func= f_regression, percentile=50)\n",
    "selectorP.fit_transform(X,Y)\n",
    "\n",
    "cols_p= selectorP.get_support(indices=True)\n",
    "print(X.columns[cols_p].tolist())"
   ]
  },
  {
   "cell_type": "markdown",
   "metadata": {},
   "source": [
    "GENERIC UNIVARIATE SELECTION"
   ]
  },
  {
   "cell_type": "code",
   "execution_count": 35,
   "metadata": {},
   "outputs": [
    {
     "name": "stdout",
     "output_type": "stream",
     "text": [
      "['Hours', 'sHours', 'calories']\n",
      "['Hours', 'sHours', 'calories']\n"
     ]
    }
   ],
   "source": [
    "selectorG1= GenericUnivariateSelect(score_func= f_regression, mode='k_best', param= 3)\n",
    "X_g1= selectorG1.fit_transform(X, Y)\n",
    "\n",
    "selectorG2= GenericUnivariateSelect(score_func= f_regression, mode='percentile', param= 50)\n",
    "X_g2= selectorG2.fit_transform(X, Y)\n",
    "\n",
    "cols_G1= selectorG1.get_support(indices=True)\n",
    "print(X.columns[cols_G1].tolist())\n",
    "\n",
    "cols_G2= selectorG2.get_support(indices=True)\n",
    "print(X.columns[cols_G2].tolist())"
   ]
  },
  {
   "cell_type": "code",
   "execution_count": null,
   "metadata": {},
   "outputs": [],
   "source": []
  }
 ],
 "metadata": {
  "kernelspec": {
   "display_name": "Python 3",
   "language": "python",
   "name": "python3"
  },
  "language_info": {
   "codemirror_mode": {
    "name": "ipython",
    "version": 3
   },
   "file_extension": ".py",
   "mimetype": "text/x-python",
   "name": "python",
   "nbconvert_exporter": "python",
   "pygments_lexer": "ipython3",
   "version": "3.8.3"
  }
 },
 "nbformat": 4,
 "nbformat_minor": 4
}
