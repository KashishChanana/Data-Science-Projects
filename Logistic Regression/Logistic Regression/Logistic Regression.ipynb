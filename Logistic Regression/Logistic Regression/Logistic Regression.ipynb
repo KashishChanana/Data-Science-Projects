{
 "cells": [
  {
   "cell_type": "code",
   "execution_count": 5,
   "metadata": {},
   "outputs": [],
   "source": [
    "import pandas as pd\n",
    "import matplotlib.pyplot as plt\n",
    "import numpy as np\n",
    "import math\n",
    "import seaborn as sns\n",
    "sns.set()"
   ]
  },
  {
   "cell_type": "code",
   "execution_count": 20,
   "metadata": {},
   "outputs": [
    {
     "data": {
      "text/plain": [
       "(614, 6)"
      ]
     },
     "execution_count": 20,
     "metadata": {},
     "output_type": "execute_result"
    }
   ],
   "source": [
    "loan_data= pd.read_csv('LoanApproval.csv')\n",
    "\n",
    "loan_data.shape"
   ]
  },
  {
   "cell_type": "code",
   "execution_count": 21,
   "metadata": {},
   "outputs": [],
   "source": [
    "loan_prep= loan_data.copy()"
   ]
  },
  {
   "cell_type": "code",
   "execution_count": 22,
   "metadata": {},
   "outputs": [
    {
     "data": {
      "text/plain": [
       "gender     13\n",
       "married     3\n",
       "ch         50\n",
       "income      0\n",
       "loanamt    22\n",
       "status      0\n",
       "dtype: int64"
      ]
     },
     "execution_count": 22,
     "metadata": {},
     "output_type": "execute_result"
    }
   ],
   "source": [
    "loan_prep.isnull().sum()"
   ]
  },
  {
   "cell_type": "code",
   "execution_count": 23,
   "metadata": {},
   "outputs": [
    {
     "data": {
      "text/html": [
       "<div>\n",
       "<style scoped>\n",
       "    .dataframe tbody tr th:only-of-type {\n",
       "        vertical-align: middle;\n",
       "    }\n",
       "\n",
       "    .dataframe tbody tr th {\n",
       "        vertical-align: top;\n",
       "    }\n",
       "\n",
       "    .dataframe thead th {\n",
       "        text-align: right;\n",
       "    }\n",
       "</style>\n",
       "<table border=\"1\" class=\"dataframe\">\n",
       "  <thead>\n",
       "    <tr style=\"text-align: right;\">\n",
       "      <th></th>\n",
       "      <th>gender</th>\n",
       "      <th>married</th>\n",
       "      <th>ch</th>\n",
       "      <th>income</th>\n",
       "      <th>loanamt</th>\n",
       "      <th>status</th>\n",
       "    </tr>\n",
       "  </thead>\n",
       "  <tbody>\n",
       "    <tr>\n",
       "      <th>1</th>\n",
       "      <td>Male</td>\n",
       "      <td>Yes</td>\n",
       "      <td>1.0</td>\n",
       "      <td>4583</td>\n",
       "      <td>128.0</td>\n",
       "      <td>N</td>\n",
       "    </tr>\n",
       "    <tr>\n",
       "      <th>2</th>\n",
       "      <td>Male</td>\n",
       "      <td>Yes</td>\n",
       "      <td>1.0</td>\n",
       "      <td>3000</td>\n",
       "      <td>66.0</td>\n",
       "      <td>Y</td>\n",
       "    </tr>\n",
       "    <tr>\n",
       "      <th>3</th>\n",
       "      <td>Male</td>\n",
       "      <td>Yes</td>\n",
       "      <td>1.0</td>\n",
       "      <td>2583</td>\n",
       "      <td>120.0</td>\n",
       "      <td>Y</td>\n",
       "    </tr>\n",
       "    <tr>\n",
       "      <th>4</th>\n",
       "      <td>Male</td>\n",
       "      <td>No</td>\n",
       "      <td>1.0</td>\n",
       "      <td>6000</td>\n",
       "      <td>141.0</td>\n",
       "      <td>Y</td>\n",
       "    </tr>\n",
       "    <tr>\n",
       "      <th>5</th>\n",
       "      <td>Male</td>\n",
       "      <td>Yes</td>\n",
       "      <td>1.0</td>\n",
       "      <td>5417</td>\n",
       "      <td>267.0</td>\n",
       "      <td>Y</td>\n",
       "    </tr>\n",
       "    <tr>\n",
       "      <th>...</th>\n",
       "      <td>...</td>\n",
       "      <td>...</td>\n",
       "      <td>...</td>\n",
       "      <td>...</td>\n",
       "      <td>...</td>\n",
       "      <td>...</td>\n",
       "    </tr>\n",
       "    <tr>\n",
       "      <th>609</th>\n",
       "      <td>Female</td>\n",
       "      <td>No</td>\n",
       "      <td>1.0</td>\n",
       "      <td>2900</td>\n",
       "      <td>71.0</td>\n",
       "      <td>Y</td>\n",
       "    </tr>\n",
       "    <tr>\n",
       "      <th>610</th>\n",
       "      <td>Male</td>\n",
       "      <td>Yes</td>\n",
       "      <td>1.0</td>\n",
       "      <td>4106</td>\n",
       "      <td>40.0</td>\n",
       "      <td>Y</td>\n",
       "    </tr>\n",
       "    <tr>\n",
       "      <th>611</th>\n",
       "      <td>Male</td>\n",
       "      <td>Yes</td>\n",
       "      <td>1.0</td>\n",
       "      <td>8072</td>\n",
       "      <td>253.0</td>\n",
       "      <td>Y</td>\n",
       "    </tr>\n",
       "    <tr>\n",
       "      <th>612</th>\n",
       "      <td>Male</td>\n",
       "      <td>Yes</td>\n",
       "      <td>1.0</td>\n",
       "      <td>7583</td>\n",
       "      <td>187.0</td>\n",
       "      <td>Y</td>\n",
       "    </tr>\n",
       "    <tr>\n",
       "      <th>613</th>\n",
       "      <td>Female</td>\n",
       "      <td>No</td>\n",
       "      <td>0.0</td>\n",
       "      <td>4583</td>\n",
       "      <td>133.0</td>\n",
       "      <td>N</td>\n",
       "    </tr>\n",
       "  </tbody>\n",
       "</table>\n",
       "<p>529 rows × 6 columns</p>\n",
       "</div>"
      ],
      "text/plain": [
       "     gender married   ch  income  loanamt status\n",
       "1      Male     Yes  1.0    4583    128.0      N\n",
       "2      Male     Yes  1.0    3000     66.0      Y\n",
       "3      Male     Yes  1.0    2583    120.0      Y\n",
       "4      Male      No  1.0    6000    141.0      Y\n",
       "5      Male     Yes  1.0    5417    267.0      Y\n",
       "..      ...     ...  ...     ...      ...    ...\n",
       "609  Female      No  1.0    2900     71.0      Y\n",
       "610    Male     Yes  1.0    4106     40.0      Y\n",
       "611    Male     Yes  1.0    8072    253.0      Y\n",
       "612    Male     Yes  1.0    7583    187.0      Y\n",
       "613  Female      No  0.0    4583    133.0      N\n",
       "\n",
       "[529 rows x 6 columns]"
      ]
     },
     "execution_count": 23,
     "metadata": {},
     "output_type": "execute_result"
    }
   ],
   "source": [
    "loan_prep.dropna(axis=0)"
   ]
  },
  {
   "cell_type": "code",
   "execution_count": 24,
   "metadata": {},
   "outputs": [
    {
     "name": "stdout",
     "output_type": "stream",
     "text": [
      "<class 'pandas.core.frame.DataFrame'>\n",
      "RangeIndex: 614 entries, 0 to 613\n",
      "Data columns (total 6 columns):\n",
      " #   Column   Non-Null Count  Dtype  \n",
      "---  ------   --------------  -----  \n",
      " 0   gender   601 non-null    object \n",
      " 1   married  611 non-null    object \n",
      " 2   ch       564 non-null    float64\n",
      " 3   income   614 non-null    int64  \n",
      " 4   loanamt  592 non-null    float64\n",
      " 5   status   614 non-null    object \n",
      "dtypes: float64(2), int64(1), object(3)\n",
      "memory usage: 28.9+ KB\n"
     ]
    }
   ],
   "source": [
    "loan_prep.info()"
   ]
  },
  {
   "cell_type": "code",
   "execution_count": 25,
   "metadata": {},
   "outputs": [],
   "source": [
    "cols= [\"gender\", \"married\", \"ch\", \"status\"]\n",
    "for col in cols:\n",
    "    loan_prep[col]=loan_prep[col].astype('category')\n",
    "\n",
    "loan_prep= pd.get_dummies(loan_prep, drop_first=True)"
   ]
  },
  {
   "cell_type": "code",
   "execution_count": 26,
   "metadata": {},
   "outputs": [
    {
     "data": {
      "text/html": [
       "<div>\n",
       "<style scoped>\n",
       "    .dataframe tbody tr th:only-of-type {\n",
       "        vertical-align: middle;\n",
       "    }\n",
       "\n",
       "    .dataframe tbody tr th {\n",
       "        vertical-align: top;\n",
       "    }\n",
       "\n",
       "    .dataframe thead th {\n",
       "        text-align: right;\n",
       "    }\n",
       "</style>\n",
       "<table border=\"1\" class=\"dataframe\">\n",
       "  <thead>\n",
       "    <tr style=\"text-align: right;\">\n",
       "      <th></th>\n",
       "      <th>income</th>\n",
       "      <th>loanamt</th>\n",
       "      <th>gender_Male</th>\n",
       "      <th>married_Yes</th>\n",
       "      <th>ch_1.0</th>\n",
       "      <th>status_Y</th>\n",
       "    </tr>\n",
       "  </thead>\n",
       "  <tbody>\n",
       "    <tr>\n",
       "      <th>0</th>\n",
       "      <td>5849</td>\n",
       "      <td>NaN</td>\n",
       "      <td>1</td>\n",
       "      <td>0</td>\n",
       "      <td>1</td>\n",
       "      <td>1</td>\n",
       "    </tr>\n",
       "    <tr>\n",
       "      <th>1</th>\n",
       "      <td>4583</td>\n",
       "      <td>128.0</td>\n",
       "      <td>1</td>\n",
       "      <td>1</td>\n",
       "      <td>1</td>\n",
       "      <td>0</td>\n",
       "    </tr>\n",
       "    <tr>\n",
       "      <th>2</th>\n",
       "      <td>3000</td>\n",
       "      <td>66.0</td>\n",
       "      <td>1</td>\n",
       "      <td>1</td>\n",
       "      <td>1</td>\n",
       "      <td>1</td>\n",
       "    </tr>\n",
       "    <tr>\n",
       "      <th>3</th>\n",
       "      <td>2583</td>\n",
       "      <td>120.0</td>\n",
       "      <td>1</td>\n",
       "      <td>1</td>\n",
       "      <td>1</td>\n",
       "      <td>1</td>\n",
       "    </tr>\n",
       "    <tr>\n",
       "      <th>4</th>\n",
       "      <td>6000</td>\n",
       "      <td>141.0</td>\n",
       "      <td>1</td>\n",
       "      <td>0</td>\n",
       "      <td>1</td>\n",
       "      <td>1</td>\n",
       "    </tr>\n",
       "  </tbody>\n",
       "</table>\n",
       "</div>"
      ],
      "text/plain": [
       "   income  loanamt  gender_Male  married_Yes  ch_1.0  status_Y\n",
       "0    5849      NaN            1            0       1         1\n",
       "1    4583    128.0            1            1       1         0\n",
       "2    3000     66.0            1            1       1         1\n",
       "3    2583    120.0            1            1       1         1\n",
       "4    6000    141.0            1            0       1         1"
      ]
     },
     "execution_count": 26,
     "metadata": {},
     "output_type": "execute_result"
    }
   ],
   "source": [
    "loan_prep.head()"
   ]
  },
  {
   "cell_type": "code",
   "execution_count": 27,
   "metadata": {},
   "outputs": [],
   "source": [
    "loan_prep= loan_prep.dropna()"
   ]
  },
  {
   "cell_type": "code",
   "execution_count": 28,
   "metadata": {},
   "outputs": [],
   "source": [
    "from sklearn.preprocessing import StandardScaler\n",
    "scale= StandardScaler()\n",
    "loan_prep['income']= scale.fit_transform(loan_prep[['income']])\n",
    "loan_prep['loanamt']= scale.fit_transform(loan_prep[['loanamt']])"
   ]
  },
  {
   "cell_type": "code",
   "execution_count": 29,
   "metadata": {},
   "outputs": [],
   "source": [
    " from sklearn.model_selection import train_test_split\n",
    "\n",
    "Y= loan_prep['status_Y']\n",
    "X= loan_prep.drop(['status_Y'], axis=1)\n",
    "\n",
    "x_train, x_test, y_train, y_test= train_test_split(X, Y, test_size=0.3, random_state=12, stratify= Y)\n",
    "#stratify to prevent all yes/nos in training/testing sets"
   ]
  },
  {
   "cell_type": "code",
   "execution_count": 30,
   "metadata": {},
   "outputs": [],
   "source": [
    "from sklearn.linear_model import LogisticRegression"
   ]
  },
  {
   "cell_type": "code",
   "execution_count": 31,
   "metadata": {},
   "outputs": [
    {
     "data": {
      "text/plain": [
       "LogisticRegression()"
      ]
     },
     "execution_count": 31,
     "metadata": {},
     "output_type": "execute_result"
    }
   ],
   "source": [
    "lr= LogisticRegression()\n",
    "lr.fit(x_train, y_train)"
   ]
  },
  {
   "cell_type": "code",
   "execution_count": 32,
   "metadata": {},
   "outputs": [],
   "source": [
    "y_pred= lr.predict(x_test)"
   ]
  },
  {
   "cell_type": "code",
   "execution_count": 33,
   "metadata": {},
   "outputs": [
    {
     "name": "stdout",
     "output_type": "stream",
     "text": [
      "[1 0 0 1 1 0 1 1 1 1 0 1 1 1 1 1 1 1 0 1 0 1 1 1 1 1 1 1 1 1 1 1 1 1 1 1 1\n",
      " 0 1 1 1 0 1 0 0 1 0 1 1 1 1 1 0 1 1 1 1 1 0 1 1 1 1 0 1 0 1 0 1 1 1 0 1 0\n",
      " 1 1 1 0 1 1 1 0 0 1 1 1 0 1 1 1 1 0 0 1 1 1 1 0 1 1 1 0 1 0 0 1 1 1 0 0 1\n",
      " 1 1 1 1 1 0 1 1 1 1 1 1 1 0 0 1 0 1 0 1 1 1 1 1 1 1 1 1 1 1 1 1 1 1 1 1 1\n",
      " 1 0 0 1 1 1 1 0 0 1 1 1 1 1 1 0 0 1 1 1 1 1 1 0 1 0 0 1 0 1]\n"
     ]
    }
   ],
   "source": [
    "print(y_pred)"
   ]
  },
  {
   "cell_type": "code",
   "execution_count": 34,
   "metadata": {},
   "outputs": [
    {
     "name": "stdout",
     "output_type": "stream",
     "text": [
      "[[ 30  24]\n",
      " [ 15 109]]\n"
     ]
    }
   ],
   "source": [
    "from sklearn.metrics import confusion_matrix\n",
    "cm= confusion_matrix(y_test, y_pred)\n",
    "print(cm)"
   ]
  },
  {
   "cell_type": "code",
   "execution_count": 35,
   "metadata": {},
   "outputs": [
    {
     "data": {
      "text/plain": [
       "0.7808988764044944"
      ]
     },
     "execution_count": 35,
     "metadata": {},
     "output_type": "execute_result"
    }
   ],
   "source": [
    "lr.score(x_test, y_test)"
   ]
  },
  {
   "cell_type": "code",
   "execution_count": 36,
   "metadata": {},
   "outputs": [],
   "source": [
    "from sklearn.metrics import classification_report, accuracy_score"
   ]
  },
  {
   "cell_type": "code",
   "execution_count": 37,
   "metadata": {},
   "outputs": [
    {
     "name": "stdout",
     "output_type": "stream",
     "text": [
      "              precision    recall  f1-score   support\n",
      "\n",
      "           0       0.67      0.56      0.61        54\n",
      "           1       0.82      0.88      0.85       124\n",
      "\n",
      "    accuracy                           0.78       178\n",
      "   macro avg       0.74      0.72      0.73       178\n",
      "weighted avg       0.77      0.78      0.77       178\n",
      " 0.7808988764044944\n"
     ]
    }
   ],
   "source": [
    "cr= classification_report(y_test, y_pred)\n",
    "acc= accuracy_score(y_test, y_pred)\n",
    "\n",
    "print(cr, acc)"
   ]
  },
  {
   "cell_type": "code",
   "execution_count": 40,
   "metadata": {},
   "outputs": [
    {
     "name": "stdout",
     "output_type": "stream",
     "text": [
      "[[0.17583127 0.82416873]\n",
      " [0.65519522 0.34480478]\n",
      " [0.59664537 0.40335463]\n",
      " [0.26506392 0.73493608]\n",
      " [0.13478153 0.86521847]\n",
      " [0.72927655 0.27072345]\n",
      " [0.18882732 0.81117268]\n",
      " [0.26958639 0.73041361]\n",
      " [0.19839256 0.80160744]\n",
      " [0.21792697 0.78207303]\n",
      " [0.61185259 0.38814741]\n",
      " [0.19699181 0.80300819]\n",
      " [0.19219123 0.80780877]\n",
      " [0.19396882 0.80603118]\n",
      " [0.15946441 0.84053559]\n",
      " [0.27051331 0.72948669]\n",
      " [0.14618956 0.85381044]\n",
      " [0.19623205 0.80376795]\n",
      " [0.72177291 0.27822709]\n",
      " [0.20137756 0.79862244]\n",
      " [0.71442799 0.28557201]\n",
      " [0.1942831  0.8057169 ]\n",
      " [0.16265782 0.83734218]\n",
      " [0.18360109 0.81639891]\n",
      " [0.19302297 0.80697703]\n",
      " [0.2824786  0.7175214 ]\n",
      " [0.2510368  0.7489632 ]\n",
      " [0.16915713 0.83084287]\n",
      " [0.25668491 0.74331509]\n",
      " [0.18231157 0.81768843]\n",
      " [0.28990331 0.71009669]\n",
      " [0.266301   0.733699  ]\n",
      " [0.28980608 0.71019392]\n",
      " [0.19843629 0.80156371]\n",
      " [0.17947245 0.82052755]\n",
      " [0.18258769 0.81741231]\n",
      " [0.20534616 0.79465384]\n",
      " [0.61361722 0.38638278]\n",
      " [0.27675078 0.72324922]\n",
      " [0.28988973 0.71011027]\n",
      " [0.1888588  0.8111412 ]\n",
      " [0.60750279 0.39249721]\n",
      " [0.18805794 0.81194206]\n",
      " [0.70712235 0.29287765]\n",
      " [0.66791587 0.33208413]\n",
      " [0.1604959  0.8395041 ]\n",
      " [0.61075351 0.38924649]\n",
      " [0.25101464 0.74898536]\n",
      " [0.23832837 0.76167163]\n",
      " [0.19223802 0.80776198]\n",
      " [0.20048199 0.79951801]\n",
      " [0.27867457 0.72132543]\n",
      " [0.72167136 0.27832864]\n",
      " [0.16276575 0.83723425]\n",
      " [0.24673391 0.75326609]\n",
      " [0.20017341 0.79982659]\n",
      " [0.24547245 0.75452755]\n",
      " [0.26620449 0.73379551]\n",
      " [0.62640265 0.37359735]\n",
      " [0.11087283 0.88912717]\n",
      " [0.26177166 0.73822834]\n",
      " [0.18526233 0.81473767]\n",
      " [0.19477195 0.80522805]\n",
      " [0.62759537 0.37240463]\n",
      " [0.18906191 0.81093809]\n",
      " [0.62050142 0.37949858]\n",
      " [0.26837619 0.73162381]\n",
      " [0.69914962 0.30085038]\n",
      " [0.24155174 0.75844826]\n",
      " [0.2409604  0.7590396 ]\n",
      " [0.27433584 0.72566416]\n",
      " [0.6105169  0.3894831 ]\n",
      " [0.25426003 0.74573997]\n",
      " [0.73319542 0.26680458]\n",
      " [0.29222833 0.70777167]\n",
      " [0.15900016 0.84099984]\n",
      " [0.27613194 0.72386806]\n",
      " [0.60909601 0.39090399]\n",
      " [0.18465056 0.81534944]\n",
      " [0.27299015 0.72700985]\n",
      " [0.19684314 0.80315686]\n",
      " [0.69946673 0.30053327]\n",
      " [0.73782052 0.26217948]\n",
      " [0.20718766 0.79281234]\n",
      " [0.19030166 0.80969834]\n",
      " [0.19701755 0.80298245]\n",
      " [0.62388322 0.37611678]\n",
      " [0.29314127 0.70685873]\n",
      " [0.2569388  0.7430612 ]\n",
      " [0.17607372 0.82392628]\n",
      " [0.18073669 0.81926331]\n",
      " [0.72786179 0.27213821]\n",
      " [0.63767297 0.36232703]\n",
      " [0.24998399 0.75001601]\n",
      " [0.18532688 0.81467312]\n",
      " [0.168268   0.831732  ]\n",
      " [0.19687059 0.80312941]\n",
      " [0.61521118 0.38478882]\n",
      " [0.18130043 0.81869957]\n",
      " [0.17118943 0.82881057]\n",
      " [0.18876017 0.81123983]\n",
      " [0.58436279 0.41563721]\n",
      " [0.16350306 0.83649694]\n",
      " [0.62730175 0.37269825]\n",
      " [0.59446218 0.40553782]\n",
      " [0.19970112 0.80029888]\n",
      " [0.27686054 0.72313946]\n",
      " [0.19792297 0.80207703]\n",
      " [0.61366751 0.38633249]\n",
      " [0.68849872 0.31150128]\n",
      " [0.28050038 0.71949962]\n",
      " [0.19753734 0.80246266]\n",
      " [0.18668669 0.81331331]\n",
      " [0.18166109 0.81833891]\n",
      " [0.17661074 0.82338926]\n",
      " [0.2076701  0.7923299 ]\n",
      " [0.63301009 0.36698991]\n",
      " [0.1768094  0.8231906 ]\n",
      " [0.31074161 0.68925839]\n",
      " [0.19826006 0.80173994]\n",
      " [0.19251547 0.80748453]\n",
      " [0.1836556  0.8163444 ]\n",
      " [0.28543771 0.71456229]\n",
      " [0.18395028 0.81604972]\n",
      " [0.58361137 0.41638863]\n",
      " [0.59026204 0.40973796]\n",
      " [0.18309518 0.81690482]\n",
      " [0.61434783 0.38565217]\n",
      " [0.22399095 0.77600905]\n",
      " [0.5957228  0.4042772 ]\n",
      " [0.28743196 0.71256804]\n",
      " [0.22141508 0.77858492]\n",
      " [0.27351628 0.72648372]\n",
      " [0.27232513 0.72767487]\n",
      " [0.18708787 0.81291213]\n",
      " [0.25272372 0.74727628]\n",
      " [0.17532893 0.82467107]\n",
      " [0.17006644 0.82993356]\n",
      " [0.17921693 0.82078307]\n",
      " [0.19056108 0.80943892]\n",
      " [0.25349332 0.74650668]\n",
      " [0.17917326 0.82082674]\n",
      " [0.28701606 0.71298394]\n",
      " [0.18243092 0.81756908]\n",
      " [0.18083152 0.81916848]\n",
      " [0.28396572 0.71603428]\n",
      " [0.2686787  0.7313213 ]\n",
      " [0.18919116 0.81080884]\n",
      " [0.19130627 0.80869373]\n",
      " [0.73130994 0.26869006]\n",
      " [0.64679896 0.35320104]\n",
      " [0.17278365 0.82721635]\n",
      " [0.21441056 0.78558944]\n",
      " [0.27711841 0.72288159]\n",
      " [0.27712554 0.72287446]\n",
      " [0.61929586 0.38070414]\n",
      " [0.60050055 0.39949945]\n",
      " [0.29095831 0.70904169]\n",
      " [0.19572799 0.80427201]\n",
      " [0.27989047 0.72010953]\n",
      " [0.19281178 0.80718822]\n",
      " [0.18888168 0.81111832]\n",
      " [0.23083129 0.76916871]\n",
      " [0.6472815  0.3527185 ]\n",
      " [0.6034594  0.3965406 ]\n",
      " [0.19045039 0.80954961]\n",
      " [0.20969568 0.79030432]\n",
      " [0.25927142 0.74072858]\n",
      " [0.1864116  0.8135884 ]\n",
      " [0.19304179 0.80695821]\n",
      " [0.18843336 0.81156664]\n",
      " [0.71259753 0.28740247]\n",
      " [0.20867296 0.79132704]\n",
      " [0.70331628 0.29668372]\n",
      " [0.60519422 0.39480578]\n",
      " [0.25534895 0.74465105]\n",
      " [0.72472576 0.27527424]\n",
      " [0.21303639 0.78696361]]\n",
      "[1 0 0 1 1 0 1 1 1 1 0 1 1 1 1 1 1 1 0 1 0 1 1 1 1 1 1 1 1 1 1 1 1 1 1 1 1\n",
      " 0 1 1 1 0 1 0 0 1 0 1 1 1 1 1 0 1 1 1 1 1 0 1 1 1 1 0 1 0 1 0 1 1 1 0 1 0\n",
      " 1 1 1 0 1 1 1 0 0 1 1 1 0 1 1 1 1 0 0 1 1 1 1 0 1 1 1 0 1 0 0 1 1 1 0 0 1\n",
      " 1 1 1 1 1 0 1 1 1 1 1 1 1 0 0 1 0 1 0 1 1 1 1 1 1 1 1 1 1 1 1 1 1 1 1 1 1\n",
      " 1 0 0 1 1 1 1 0 0 1 1 1 1 1 1 0 0 1 1 1 1 1 1 0 1 0 0 1 0 1]\n"
     ]
    }
   ],
   "source": [
    "y_prob= lr.predict_proba(x_test)\n",
    "print(y_prob)\n",
    "print(y_pred)"
   ]
  },
  {
   "cell_type": "code",
   "execution_count": 41,
   "metadata": {},
   "outputs": [
    {
     "name": "stdout",
     "output_type": "stream",
     "text": [
      "[1, 0, 0, 0, 1, 0, 1, 0, 1, 0, 0, 1, 1, 1, 1, 0, 1, 1, 0, 0, 0, 1, 1, 1, 1, 0, 0, 1, 0, 1, 0, 0, 0, 1, 1, 1, 0, 0, 0, 0, 1, 0, 1, 0, 0, 1, 0, 0, 0, 1, 0, 0, 0, 1, 0, 0, 0, 0, 0, 1, 0, 1, 1, 0, 1, 0, 0, 0, 0, 0, 0, 0, 0, 0, 0, 1, 0, 0, 1, 0, 1, 0, 0, 0, 1, 1, 0, 0, 0, 1, 1, 0, 0, 0, 1, 1, 1, 0, 1, 1, 1, 0, 1, 0, 0, 1, 0, 1, 0, 0, 0, 1, 1, 1, 1, 0, 0, 1, 0, 1, 1, 1, 0, 1, 0, 0, 1, 0, 0, 0, 0, 0, 0, 0, 1, 0, 1, 1, 1, 1, 0, 1, 0, 1, 1, 0, 0, 1, 1, 0, 0, 1, 0, 0, 0, 0, 0, 0, 1, 0, 1, 1, 0, 0, 0, 1, 0, 0, 1, 1, 1, 0, 0, 0, 0, 0, 0, 0]\n"
     ]
    }
   ],
   "source": [
    "#adjusting thresholds\n",
    "y_prob= lr.predict_proba(x_test)[:,1]\n",
    "y_adjusted_pred=[]\n",
    "threshold = 0.8\n",
    "for i in range(0, len(y_prob)):\n",
    "    if y_prob[i]>threshold:\n",
    "        y_adjusted_pred.append(1)\n",
    "    else: y_adjusted_pred.append(0)\n",
    "\n",
    "print(y_adjusted_pred)"
   ]
  },
  {
   "cell_type": "code",
   "execution_count": 42,
   "metadata": {},
   "outputs": [
    {
     "name": "stdout",
     "output_type": "stream",
     "text": [
      "              precision    recall  f1-score   support\n",
      "\n",
      "           0       0.43      0.85      0.58        54\n",
      "           1       0.89      0.52      0.65       124\n",
      "\n",
      "    accuracy                           0.62       178\n",
      "   macro avg       0.66      0.68      0.61       178\n",
      "weighted avg       0.75      0.62      0.63       178\n",
      " 0.6179775280898876\n"
     ]
    }
   ],
   "source": [
    "cr_adj= classification_report(y_test,y_adjusted_pred)\n",
    "acc_adj= accuracy_score(y_test, y_adjusted_pred)\n",
    "\n",
    "print(cr_adj, acc_adj)"
   ]
  },
  {
   "cell_type": "code",
   "execution_count": 44,
   "metadata": {},
   "outputs": [],
   "source": [
    " from sklearn.metrics import roc_curve, roc_auc_score"
   ]
  },
  {
   "cell_type": "code",
   "execution_count": 45,
   "metadata": {},
   "outputs": [],
   "source": [
    "fpr, tpr, threshold= roc_curve(y_test, y_adjusted_pred)"
   ]
  },
  {
   "cell_type": "code",
   "execution_count": 46,
   "metadata": {},
   "outputs": [],
   "source": [
    "AUC= roc_auc_score(y_test, y_adjusted_pred)"
   ]
  },
  {
   "cell_type": "code",
   "execution_count": 50,
   "metadata": {},
   "outputs": [
    {
     "name": "stdout",
     "output_type": "stream",
     "text": [
      "0.6839904420549582\n"
     ]
    },
    {
     "data": {
      "image/png": "[encoded data removed]",
      "text/plain": [
       "<Figure size 1440x720 with 1 Axes>"
      ]
     },
     "metadata": {},
     "output_type": "display_data"
    }
   ],
   "source": [
    "plt.figure(figsize= (20,10))\n",
    "plt.plot(fpr, tpr, linewidth=4)\n",
    "plt.xlabel(\"False Positive Rate/ (1- Specificity)\")\n",
    "plt.ylabel(\"True Positive Rate/ Recall\")\n",
    "plt.title(\"ROC curve\")\n",
    "print(AUC)"
   ]
  },
  {
   "cell_type": "code",
   "execution_count": null,
   "metadata": {},
   "outputs": [],
   "source": []
  }
 ],
 "metadata": {
  "kernelspec": {
   "display_name": "Python 3",
   "language": "python",
   "name": "python3"
  },
  "language_info": {
   "codemirror_mode": {
    "name": "ipython",
    "version": 3
   },
   "file_extension": ".py",
   "mimetype": "text/x-python",
   "name": "python",
   "nbconvert_exporter": "python",
   "pygments_lexer": "ipython3",
   "version": "3.8.3"
  }
 },
 "nbformat": 4,
 "nbformat_minor": 4
}
