{
 "cells": [
  {
   "cell_type": "code",
   "execution_count": 1,
   "metadata": {},
   "outputs": [],
   "source": [
    "import pandas as pd"
   ]
  },
  {
   "cell_type": "code",
   "execution_count": 2,
   "metadata": {},
   "outputs": [],
   "source": [
    "dataset= pd.read_csv('mcl.csv')\n",
    "X= dataset.iloc[:, :-1]\n",
    "Y= dataset.iloc[:, -1]"
   ]
  },
  {
   "cell_type": "code",
   "execution_count": 3,
   "metadata": {},
   "outputs": [],
   "source": [
    "correlation = X.corr()"
   ]
  },
  {
   "cell_type": "code",
   "execution_count": 6,
   "metadata": {},
   "outputs": [],
   "source": [
    "from sklearn.linear_model import Lasso, Ridge, LinearRegression"
   ]
  },
  {
   "cell_type": "code",
   "execution_count": 7,
   "metadata": {},
   "outputs": [],
   "source": [
    "lr= LinearRegression()\n",
    "lr.fit(X, Y)\n",
    "lr_coef= lr.coef_\n",
    "lr_intercept= lr.intercept_\n",
    "\n",
    "print(lr_coef.tolist())"
   ]
  },
  {
   "cell_type": "code",
   "execution_count": 14,
   "metadata": {},
   "outputs": [
    {
     "name": "stdout",
     "output_type": "stream",
     "text": [
      "[0.0, 1.7309199009627652, 3.931450363105229, 3.186003473589881, 4.265930653938407, 1.2775412527902514, 1.6482531053073675, 0.6671886233367131, 0.0, 0.0, 0.6933226922946668, 0.5039582617917464, -0.1679526690320179, 0.12460803355142143, 0.51203443135554]\n"
     ]
    }
   ],
   "source": [
    "lasso= Lasso(alpha=10)\n",
    "lasso.fit(X, Y)\n",
    "lasso_coeff= lasso.coef_\n",
    "lasso_intercept= lasso.intercept_\n",
    "\n",
    "print(lasso_coeff.tolist())"
   ]
  },
  {
   "cell_type": "code",
   "execution_count": 15,
   "metadata": {},
   "outputs": [
    {
     "name": "stdout",
     "output_type": "stream",
     "text": [
      "[0.701687783044448, 1.2630380094800053, 3.632538947871352, 2.967098337528055, 3.8458177104031095, 0.9404106529651203, 1.8728782850944028, 0.7660398615030395, 0.24004052863523043, 0.5980080736315813, 1.1574110593875977, 0.902706451914834, -0.046078306710160506, 0.3673559084119065, 0.7395050212214656]\n"
     ]
    }
   ],
   "source": [
    "ridge= Ridge(alpha=100)\n",
    "ridge.fit(X, Y)\n",
    "ridge_coeff= ridge.coef_\n",
    "ridge_intercept= ridge.intercept_\n",
    "\n",
    "print(ridge_coeff.tolist())"
   ]
  },
  {
   "cell_type": "code",
   "execution_count": null,
   "metadata": {},
   "outputs": [],
   "source": []
  }
 ],
 "metadata": {
  "kernelspec": {
   "display_name": "Python 3",
   "language": "python",
   "name": "python3"
  },
  "language_info": {
   "codemirror_mode": {
    "name": "ipython",
    "version": 3
   },
   "file_extension": ".py",
   "mimetype": "text/x-python",
   "name": "python",
   "nbconvert_exporter": "python",
   "pygments_lexer": "ipython3",
   "version": "3.8.3"
  }
 },
 "nbformat": 4,
 "nbformat_minor": 4
}
