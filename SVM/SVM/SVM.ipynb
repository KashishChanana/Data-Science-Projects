{
 "cells": [
  {
   "cell_type": "code",
   "execution_count": 1,
   "metadata": {},
   "outputs": [
    {
     "name": "stdout",
     "output_type": "stream",
     "text": [
      "<class 'pandas.core.frame.DataFrame'>\n",
      "RangeIndex: 614 entries, 0 to 613\n",
      "Data columns (total 6 columns):\n",
      " #   Column   Non-Null Count  Dtype  \n",
      "---  ------   --------------  -----  \n",
      " 0   gender   601 non-null    object \n",
      " 1   married  611 non-null    object \n",
      " 2   ch       564 non-null    float64\n",
      " 3   income   614 non-null    int64  \n",
      " 4   loanamt  592 non-null    float64\n",
      " 5   status   614 non-null    object \n",
      "dtypes: float64(2), int64(1), object(3)\n",
      "memory usage: 28.9+ KB\n"
     ]
    }
   ],
   "source": [
    "import pandas as pd\n",
    "import matplotlib.pyplot as plt\n",
    "import numpy as np\n",
    "import math\n",
    "import seaborn as sns\n",
    "sns.set()\n",
    "\n",
    "loan_data= pd.read_csv('LoanApproval.csv')\n",
    "\n",
    "loan_data.shape\n",
    "\n",
    "loan_prep= loan_data.copy()\n",
    "\n",
    "loan_prep.isnull().sum()\n",
    "\n",
    "loan_prep.dropna(axis=0)\n",
    "\n",
    "loan_prep.info()\n",
    "\n",
    "cols= [\"gender\", \"married\", \"ch\", \"status\"]\n",
    "for col in cols:\n",
    "    loan_prep[col]=loan_prep[col].astype('category')\n",
    "\n",
    "loan_prep= pd.get_dummies(loan_prep, drop_first=True)\n",
    "\n",
    "loan_prep.head()\n",
    "\n",
    "loan_prep= loan_prep.dropna()\n",
    "\n",
    "from sklearn.preprocessing import StandardScaler\n",
    "scale= StandardScaler()\n",
    "loan_prep['income']= scale.fit_transform(loan_prep[['income']])\n",
    "loan_prep['loanamt']= scale.fit_transform(loan_prep[['loanamt']])"
   ]
  },
  {
   "cell_type": "code",
   "execution_count": 3,
   "metadata": {},
   "outputs": [],
   "source": [
    " from sklearn.model_selection import train_test_split\n",
    "\n",
    "Y= loan_prep['status_Y']\n",
    "X= loan_prep.drop(['status_Y'], axis=1)\n",
    "\n",
    "x_train, x_test, y_train, y_test= train_test_split(X, Y, test_size=0.3, random_state=12, stratify= Y)\n",
    "#stratify to prevent all yes/nos in training/testing sets"
   ]
  },
  {
   "cell_type": "code",
   "execution_count": 4,
   "metadata": {},
   "outputs": [],
   "source": [
    "from sklearn.svm import SVC\n",
    "svc= SVC()\n",
    "svc.fit(x_train, y_train)\n",
    "y_pred= svc.predict(x_test)"
   ]
  },
  {
   "cell_type": "code",
   "execution_count": 5,
   "metadata": {},
   "outputs": [
    {
     "name": "stdout",
     "output_type": "stream",
     "text": [
      "[[ 28  26]\n",
      " [ 16 108]]\n"
     ]
    }
   ],
   "source": [
    "from sklearn.metrics import confusion_matrix\n",
    "cm=confusion_matrix(y_test, y_pred)\n",
    "print(cm)"
   ]
  },
  {
   "cell_type": "code",
   "execution_count": 8,
   "metadata": {},
   "outputs": [
    {
     "name": "stdout",
     "output_type": "stream",
     "text": [
      "0.7640449438202247\n"
     ]
    }
   ],
   "source": [
    "score= svc.score(x_test, y_test)\n",
    "\n",
    "print(score)"
   ]
  },
  {
   "cell_type": "code",
   "execution_count": null,
   "metadata": {},
   "outputs": [],
   "source": []
  }
 ],
 "metadata": {
  "kernelspec": {
   "display_name": "Python 3",
   "language": "python",
   "name": "python3"
  },
  "language_info": {
   "codemirror_mode": {
    "name": "ipython",
    "version": 3
   },
   "file_extension": ".py",
   "mimetype": "text/x-python",
   "name": "python",
   "nbconvert_exporter": "python",
   "pygments_lexer": "ipython3",
   "version": "3.8.3"
  }
 },
 "nbformat": 4,
 "nbformat_minor": 4
}
